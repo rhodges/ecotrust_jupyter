{
 "cells": [
  {
   "cell_type": "code",
   "execution_count": 1,
   "metadata": {},
   "outputs": [],
   "source": [
    "import io\n",
    "import numpy as np\n",
    "import matplotlib\n",
    "#     matplotlib.use('Agg')\n",
    "from matplotlib import pyplot as plt\n",
    "from PIL import Image\n",
    "\n",
    "\n",
    "def make_scalebar(num_ticks_top,\n",
    "                  step_ticks_top,\n",
    "                  num_ticks_bottom,\n",
    "                  step_ticks_bottom,\n",
    "                  bottom_units_per_pixel,\n",
    "                  scale_top=1.0,\n",
    "                  scale_bottom=3.28084,\n",
    "                  units_top='feet',\n",
    "                  units_bottom='meters'):\n",
    "    \"\"\"Renders a dual scale bar as a PIL Image.\n",
    "\n",
    "    Parameters\n",
    "    ----------\n",
    "    num_ticks_top, num_ticks_bottom : int\n",
    "      number of ticks, including starting and ending points, to use for\n",
    "      drawing scale bars\n",
    "    step_ticks_top, step_ticks_bottom : int\n",
    "      amount that each successive tick adds to previous tick\n",
    "    bottom_units_per_pixel : numeric\n",
    "      the width of each pixel in the resulting image in the same units as the\n",
    "      bottom scale bar. This parameters helps resize the resulting figure\n",
    "      to ensure an accurate scale is generated.\n",
    "    scale_top, scale_bottom : numeric\n",
    "      relative scales of units in top and bottom scale bars\n",
    "    units_top, units_bottom : str\n",
    "      string used to label units on the last tick in the scale bar\n",
    "\n",
    "    Returns\n",
    "    -------\n",
    "    img : PIL Image\n",
    "      the dual scale bar rendered as a in-memory image\n",
    "    \"\"\"\n",
    "    DPI = 350\n",
    "    DEFAULT_WIDTH = 1.5\n",
    "    DEFAULT_HEIGHT = 0.15\n",
    "\n",
    "    width_top = (num_ticks_top - 1) * step_ticks_top * (scale_top /\n",
    "                                                        scale_bottom)\n",
    "    width_bot = (num_ticks_bottom - 1) * step_ticks_bottom\n",
    "    min_top, max_top = -width_top / 2, width_top / 2\n",
    "    min_bot, max_bot = -width_bot / 2, width_bot / 2\n",
    "    both_min, both_max = min(min_top, min_bot), max(max_top, max_bot)\n",
    "\n",
    "    fig = plt.figure(frameon=False)\n",
    "    fig.set_size_inches(DEFAULT_WIDTH, DEFAULT_HEIGHT)\n",
    "    fig.dpi = DPI\n",
    "    ax = plt.Axes(fig, [0., 0., 1., 1.])\n",
    "    ax.set_axis_off()\n",
    "    fig.add_axes(ax)\n",
    "\n",
    "    # make the top scalebar\n",
    "    # first, the line\n",
    "    ax.plot((min_top, max_top), (1.0, 1.0), lw=0.25, color='black')\n",
    "    # then, create the tick marks\n",
    "    ticks_top = np.linspace(min_top, max_top, num_ticks_top)\n",
    "    for i, x in enumerate(ticks_top):\n",
    "        ax.plot((x, x), (1.0, 3.0), lw=0.25, color='black')\n",
    "        # add the labels for each tick mark\n",
    "        ax.text(x,\n",
    "                4.0,\n",
    "                '{:,d}'.format(step_ticks_top * i),\n",
    "                horizontalalignment='center',\n",
    "                verticalalignment='bottom',\n",
    "                fontname='arial',\n",
    "                fontsize=2)\n",
    "        # add the units after the last tick mark\n",
    "        if x == ticks_top[-1]:\n",
    "            spaces = ' ' * len('{:,d}'.format(step_ticks_top * i))\n",
    "            ax.text(x,\n",
    "                    4.0,\n",
    "                    spaces + units_top,\n",
    "                    horizontalalignment='left',\n",
    "                    verticalalignment='bottom',\n",
    "                    fontname='arial',\n",
    "                    fontsize=2)\n",
    "\n",
    "    # make the bottom scalebar\n",
    "    # first, the line\n",
    "    ax.plot((min_bot, max_bot), (-1, -1), lw=0.25, color='black')\n",
    "    # then, create the tick marks\n",
    "    ticks_bot = np.linspace(min_bot, max_bot, num_ticks_bottom)\n",
    "    for i, x in enumerate(ticks_bot):\n",
    "        ax.plot((x, x), (-1.0, -3.0), lw=0.25, color='black')\n",
    "        # add the labels for each tick mark\n",
    "        ax.text(x,\n",
    "                -4.0,\n",
    "                '{:,d}'.format(step_ticks_bottom * i),\n",
    "                horizontalalignment='center',\n",
    "                verticalalignment='top',\n",
    "                fontname='arial',\n",
    "                fontsize=2)\n",
    "        # add the units after the last tick mark\n",
    "        if x == ticks_bot[-1]:\n",
    "            spaces = ' ' * len('{:,d}'.format(step_ticks_bottom * i))\n",
    "            ax.text(x,\n",
    "                    -4.0,\n",
    "                    spaces + units_bottom,\n",
    "                    horizontalalignment='left',\n",
    "                    verticalalignment='top',\n",
    "                    fontname='arial',\n",
    "                    fontsize=2)\n",
    "\n",
    "    # set display options so that ticks and labels are appropriately sized\n",
    "    ax.set_ylim(-10, 10)\n",
    "    ax.set_xlim(both_min * 1.05, both_max * 1.30)\n",
    "    ax.axis('off')\n",
    "\n",
    "    # calculate units per pixel for top scale bar\n",
    "    img_coords_step_bot = fig.dpi_scale_trans.inverted().transform(\n",
    "        ax.transData.transform(((ticks_bot[0], 1), (ticks_bot[-1], 1)))) * DPI\n",
    "\n",
    "    img_scale_bot = (step_ticks_bottom *\n",
    "                     (num_ticks_bottom - 1)) / (img_coords_step_bot[1][0] -\n",
    "                                                img_coords_step_bot[0][0])\n",
    "    # calculate adjustment factor to resize figure to enforce accurate scale\n",
    "    adjust = img_scale_bot / bottom_units_per_pixel\n",
    "    # update figure size with adjustment factor\n",
    "    fig.set_size_inches(*(fig.get_size_inches() * adjust))\n",
    "    # convert to PIL Image\n",
    "    img = plt_to_pil_image(fig, dpi=DPI)\n",
    "\n",
    "    return img\n",
    "\n",
    "\n",
    "def plt_to_pil_image(figure, dpi=350):\n",
    "    \"\"\"Captures a user-provided figure as an in-memory image.\n",
    "\n",
    "    Parameters\n",
    "    ----------\n",
    "    figure : matplotlib Figure\n",
    "      the figure to be rendered as an image\n",
    "\n",
    "    Returns\n",
    "    -------\n",
    "    img : PIL Image\n",
    "      the figure, rendered as an image\n",
    "    \"\"\"\n",
    "    # set user-provided figure as current figure\n",
    "    fig = plt.figure(figure.number)\n",
    "    buf = io.BytesIO()\n",
    "    plt.savefig(buf, format='png', dpi=dpi)\n",
    "    buf.seek(0)\n",
    "    img = Image.open(buf)\n",
    "\n",
    "    return img"
   ]
  },
  {
   "cell_type": "code",
   "execution_count": 2,
   "metadata": {
    "scrolled": false
   },
   "outputs": [
    {
     "data": {
      "image/png": "[encoded data removed]",
      "text/plain": [
       "<Figure size 358.14x35.814 with 1 Axes>"
      ]
     },
     "metadata": {
      "needs_background": "light"
     },
     "output_type": "display_data"
    }
   ],
   "source": [
    "img = make_scalebar(num_ticks_top=5, step_ticks_top=2500,\n",
    "                    num_ticks_bottom=6, step_ticks_bottom=500, bottom_units_per_pixel=10)"
   ]
  },
  {
   "cell_type": "code",
   "execution_count": 3,
   "metadata": {},
   "outputs": [
    {
     "data": {
      "image/png": "[encoded data removed]",
      "text/plain": [
       "<PIL.PngImagePlugin.PngImageFile image mode=RGBA size=358x35 at 0x14D9CC612B0>"
      ]
     },
     "execution_count": 3,
     "metadata": {},
     "output_type": "execute_result"
    }
   ],
   "source": [
    "img"
   ]
  },
  {
   "cell_type": "code",
   "execution_count": 4,
   "metadata": {},
   "outputs": [
    {
     "data": {
      "image/png": "[encoded data removed]",
      "text/plain": [
       "<Figure size 720x72 with 1 Axes>"
      ]
     },
     "metadata": {
      "needs_background": "light"
     },
     "output_type": "display_data"
    }
   ],
   "source": [
    "# check to confirm accurate scale\n",
    "# given a `bottom_units_per_pixel` of 10,\n",
    "# 100 pixels should span 1,000 units on the lower scale bar\n",
    "\n",
    "fig, ax = plt.subplots(figsize=(10,1))\n",
    "arr = np.array(img)\n",
    "# draw red lines that are 100 pixels apart on top of the scalebar\n",
    "arr[16:25,35:36,:] = (255, 0, 0, 255)\n",
    "arr[16:25,135:136,:] = (255, 0, 0, 255)\n",
    "\n",
    "ax.imshow(arr);"
   ]
  }
 ],
 "metadata": {
  "kernelspec": {
   "display_name": "Python [conda env:stand_mapping]",
   "language": "python",
   "name": "conda-env-stand_mapping-py"
  },
  "language_info": {
   "codemirror_mode": {
    "name": "ipython",
    "version": 3
   },
   "file_extension": ".py",
   "mimetype": "text/x-python",
   "name": "python",
   "nbconvert_exporter": "python",
   "pygments_lexer": "ipython3",
   "version": "3.6.10"
  }
 },
 "nbformat": 4,
 "nbformat_minor": 4
}
