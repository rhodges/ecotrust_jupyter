{
 "cells": [
  {
   "cell_type": "code",
   "execution_count": 1,
   "metadata": {},
   "outputs": [
    {
     "name": "stdout",
     "output_type": "stream",
     "text": [
      "TEST FOR RECORD COUNT\n",
      "All Records count: 499\n",
      "Oceans keyword record count: 34\n"
     ]
    }
   ],
   "source": [
    "import os, requests, json\n",
    "\n",
    "print(\"TEST FOR RECORD COUNT\")\n",
    "\n",
    "elasticsearch_endpoint = 'http://localhost:9200'\n",
    "search_api = '/_search'\n",
    "\n",
    "url = '%s%s' % (elasticsearch_endpoint, search_api)\n",
    "\n",
    "dsl_query = {\"query\":{\"match_all\":{}}}\n",
    "\n",
    "r_json = requests.post(url, json=dsl_query)\n",
    "\n",
    "data = r_json.json()\n",
    "\n",
    "print(\"All Records count: %s\" % data['hits']['total']['value'])\n",
    "\n",
    "oceans_query = {\"query\":{\"bool\":{\"must\":[{\"term\":{\"keywords_s\":\"oceans\"}}]}}}\n",
    "\n",
    "filter_json = requests.post(url, json=oceans_query).json()\n",
    "\n",
    "print(\"Oceans keyword record count: %s\" % filter_json['hits']['total']['value'])\n"
   ]
  },
  {
   "cell_type": "code",
   "execution_count": 2,
   "metadata": {},
   "outputs": [
    {
     "name": "stdout",
     "output_type": "stream",
     "text": [
      "TEST FOR KEYWORD SEARCH\n",
      "oceans keyword record count: 34\n",
      "Oregon keyword record count: 222\n",
      "environment keyword record count: 111\n",
      "biota keyword record count: 96\n",
      "boundaries keyword record count: 83\n",
      "OR keyword record count: 62\n"
     ]
    }
   ],
   "source": [
    "print(\"TEST FOR KEYWORD SEARCH\")\n",
    "\n",
    "\n",
    "keywords = [\"oceans\", 'Oregon', 'environment', 'biota', 'boundaries', 'OR']\n",
    "\n",
    "query_string_1 = '{\"query\":{\"bool\":{\"must\":[{\"term\":{\"keywords_s\":\"'\n",
    "query_string_2 = '\"}}]}}}' \n",
    "\n",
    "for keyword in keywords:\n",
    "    query = json.loads(\"%s%s%s\" % (query_string_1, keyword, query_string_2))\n",
    "    response = requests.post(url, json=query).json()\n",
    "    print(\"%s keyword record count: %s\" % (keyword, response['hits']['total']['value']))"
   ]
  },
  {
   "cell_type": "code",
   "execution_count": null,
   "metadata": {},
   "outputs": [],
   "source": []
  }
 ],
 "metadata": {
  "kernelspec": {
   "display_name": "Python 3",
   "language": "python",
   "name": "python3"
  },
  "language_info": {
   "codemirror_mode": {
    "name": "ipython",
    "version": 3
   },
   "file_extension": ".py",
   "mimetype": "text/x-python",
   "name": "python",
   "nbconvert_exporter": "python",
   "pygments_lexer": "ipython3",
   "version": "3.6.9"
  }
 },
 "nbformat": 4,
 "nbformat_minor": 4
}
