{
 "cells": [
  {
   "cell_type": "code",
   "execution_count": 1,
   "metadata": {},
   "outputs": [
    {
     "name": "stdout",
     "output_type": "stream",
     "text": [
      "Hit count: 499\n"
     ]
    }
   ],
   "source": [
    "import os, requests, json\n",
    "\n",
    "elasticsearch_endpoint = 'http://localhost:9200'\n",
    "search_api = '/_search'\n",
    "\n",
    "url = '%s%s' % (elasticsearch_endpoint, search_api)\n",
    "\n",
    "dsl_query = {\"query\":{\"match_all\":{}}}\n",
    "\n",
    "r_json = requests.post(url, json=dsl_query)\n",
    "\n",
    "data = r_json.json()\n",
    "\n",
    "print(\"Hit count: %s\" % data['hits']['total']['value'])\n"
   ]
  },
  {
   "cell_type": "code",
   "execution_count": null,
   "metadata": {},
   "outputs": [],
   "source": []
  }
 ],
 "metadata": {
  "kernelspec": {
   "display_name": "Python 3",
   "language": "python",
   "name": "python3"
  },
  "language_info": {
   "codemirror_mode": {
    "name": "ipython",
    "version": 3
   },
   "file_extension": ".py",
   "mimetype": "text/x-python",
   "name": "python",
   "nbconvert_exporter": "python",
   "pygments_lexer": "ipython3",
   "version": "3.6.9"
  }
 },
 "nbformat": 4,
 "nbformat_minor": 4
}
